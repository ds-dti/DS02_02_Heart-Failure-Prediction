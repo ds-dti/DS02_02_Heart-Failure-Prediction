{
  "nbformat": 4,
  "nbformat_minor": 0,
  "metadata": {
    "colab": {
      "name": "Heart Failure Prediction.ipynb",
      "provenance": [],
      "collapsed_sections": [],
      "toc_visible": true,
      "authorship_tag": "ABX9TyMuIUZ1/9LX3Bz+/W6CxDdg",
      "include_colab_link": true
    },
    "kernelspec": {
      "name": "python3",
      "display_name": "Python 3"
    }
  },
  "cells": [
    {
      "cell_type": "markdown",
      "metadata": {
        "id": "view-in-github",
        "colab_type": "text"
      },
      "source": [
        "<a href=\"https://colab.research.google.com/github/rafiag/Heart-Failure-Prediction/blob/main/Heart_Failure_Prediction.ipynb\" target=\"_parent\"><img src=\"https://colab.research.google.com/assets/colab-badge.svg\" alt=\"Open In Colab\"/></a>"
      ]
    },
    {
      "cell_type": "markdown",
      "metadata": {
        "id": "w3c7XJWGZaEJ"
      },
      "source": [
        "# Preparation"
      ]
    },
    {
      "cell_type": "code",
      "metadata": {
        "id": "5iZunomeWZO2",
        "colab": {
          "base_uri": "https://localhost:8080/"
        },
        "outputId": "2593586c-04c8-4892-b524-4dbb1130e4ef"
      },
      "source": [
        "# Import libraries\n",
        "## Basic libs\n",
        "import pandas as pd\n",
        "import numpy as np\n",
        "import warnings\n",
        "## Data Visualization\n",
        "import seaborn as sns\n",
        "import matplotlib.pyplot as plt\n",
        "\n",
        "# Configure libraries\n",
        "warnings.filterwarnings('ignore')\n",
        "plt.rcParams['figure.figsize'] = (10, 10)\n",
        "plt.style.use('seaborn')\n",
        "\n",
        "!pip install xgboost --upgrade\n",
        "import xgboost\n",
        "print(xgboost.__version__)"
      ],
      "execution_count": 3,
      "outputs": [
        {
          "output_type": "stream",
          "text": [
            "Requirement already up-to-date: xgboost in /usr/local/lib/python3.6/dist-packages (1.2.1)\n",
            "Requirement already satisfied, skipping upgrade: numpy in /usr/local/lib/python3.6/dist-packages (from xgboost) (1.18.5)\n",
            "Requirement already satisfied, skipping upgrade: scipy in /usr/local/lib/python3.6/dist-packages (from xgboost) (1.4.1)\n",
            "1.2.1\n"
          ],
          "name": "stdout"
        }
      ]
    },
    {
      "cell_type": "code",
      "metadata": {
        "colab": {
          "base_uri": "https://localhost:8080/",
          "height": 244
        },
        "id": "33hw6Z0QcYwM",
        "outputId": "8afcf0fe-4105-4a34-826f-3899f1aed2be"
      },
      "source": [
        "# Load dataset\n",
        "df = pd.read_csv('https://github.com/rafiag/Heart-Failure-Prediction/raw/main/heart_failure_clinical_records_dataset.csv')\n",
        "\n",
        "# print(df_bank.info())\n",
        "print('Shape of dataframe:', df.shape)\n",
        "df.head()"
      ],
      "execution_count": 4,
      "outputs": [
        {
          "output_type": "stream",
          "text": [
            "Shape of dataframe: (299, 13)\n"
          ],
          "name": "stdout"
        },
        {
          "output_type": "execute_result",
          "data": {
            "text/html": [
              "<div>\n",
              "<style scoped>\n",
              "    .dataframe tbody tr th:only-of-type {\n",
              "        vertical-align: middle;\n",
              "    }\n",
              "\n",
              "    .dataframe tbody tr th {\n",
              "        vertical-align: top;\n",
              "    }\n",
              "\n",
              "    .dataframe thead th {\n",
              "        text-align: right;\n",
              "    }\n",
              "</style>\n",
              "<table border=\"1\" class=\"dataframe\">\n",
              "  <thead>\n",
              "    <tr style=\"text-align: right;\">\n",
              "      <th></th>\n",
              "      <th>age</th>\n",
              "      <th>anaemia</th>\n",
              "      <th>creatinine_phosphokinase</th>\n",
              "      <th>diabetes</th>\n",
              "      <th>ejection_fraction</th>\n",
              "      <th>high_blood_pressure</th>\n",
              "      <th>platelets</th>\n",
              "      <th>serum_creatinine</th>\n",
              "      <th>serum_sodium</th>\n",
              "      <th>sex</th>\n",
              "      <th>smoking</th>\n",
              "      <th>time</th>\n",
              "      <th>DEATH_EVENT</th>\n",
              "    </tr>\n",
              "  </thead>\n",
              "  <tbody>\n",
              "    <tr>\n",
              "      <th>0</th>\n",
              "      <td>75.0</td>\n",
              "      <td>0</td>\n",
              "      <td>582</td>\n",
              "      <td>0</td>\n",
              "      <td>20</td>\n",
              "      <td>1</td>\n",
              "      <td>265000.00</td>\n",
              "      <td>1.9</td>\n",
              "      <td>130</td>\n",
              "      <td>1</td>\n",
              "      <td>0</td>\n",
              "      <td>4</td>\n",
              "      <td>1</td>\n",
              "    </tr>\n",
              "    <tr>\n",
              "      <th>1</th>\n",
              "      <td>55.0</td>\n",
              "      <td>0</td>\n",
              "      <td>7861</td>\n",
              "      <td>0</td>\n",
              "      <td>38</td>\n",
              "      <td>0</td>\n",
              "      <td>263358.03</td>\n",
              "      <td>1.1</td>\n",
              "      <td>136</td>\n",
              "      <td>1</td>\n",
              "      <td>0</td>\n",
              "      <td>6</td>\n",
              "      <td>1</td>\n",
              "    </tr>\n",
              "    <tr>\n",
              "      <th>2</th>\n",
              "      <td>65.0</td>\n",
              "      <td>0</td>\n",
              "      <td>146</td>\n",
              "      <td>0</td>\n",
              "      <td>20</td>\n",
              "      <td>0</td>\n",
              "      <td>162000.00</td>\n",
              "      <td>1.3</td>\n",
              "      <td>129</td>\n",
              "      <td>1</td>\n",
              "      <td>1</td>\n",
              "      <td>7</td>\n",
              "      <td>1</td>\n",
              "    </tr>\n",
              "    <tr>\n",
              "      <th>3</th>\n",
              "      <td>50.0</td>\n",
              "      <td>1</td>\n",
              "      <td>111</td>\n",
              "      <td>0</td>\n",
              "      <td>20</td>\n",
              "      <td>0</td>\n",
              "      <td>210000.00</td>\n",
              "      <td>1.9</td>\n",
              "      <td>137</td>\n",
              "      <td>1</td>\n",
              "      <td>0</td>\n",
              "      <td>7</td>\n",
              "      <td>1</td>\n",
              "    </tr>\n",
              "    <tr>\n",
              "      <th>4</th>\n",
              "      <td>65.0</td>\n",
              "      <td>1</td>\n",
              "      <td>160</td>\n",
              "      <td>1</td>\n",
              "      <td>20</td>\n",
              "      <td>0</td>\n",
              "      <td>327000.00</td>\n",
              "      <td>2.7</td>\n",
              "      <td>116</td>\n",
              "      <td>0</td>\n",
              "      <td>0</td>\n",
              "      <td>8</td>\n",
              "      <td>1</td>\n",
              "    </tr>\n",
              "  </tbody>\n",
              "</table>\n",
              "</div>"
            ],
            "text/plain": [
              "    age  anaemia  creatinine_phosphokinase  ...  smoking  time  DEATH_EVENT\n",
              "0  75.0        0                       582  ...        0     4            1\n",
              "1  55.0        0                      7861  ...        0     6            1\n",
              "2  65.0        0                       146  ...        1     7            1\n",
              "3  50.0        1                       111  ...        0     7            1\n",
              "4  65.0        1                       160  ...        0     8            1\n",
              "\n",
              "[5 rows x 13 columns]"
            ]
          },
          "metadata": {
            "tags": []
          },
          "execution_count": 4
        }
      ]
    },
    {
      "cell_type": "code",
      "metadata": {
        "colab": {
          "base_uri": "https://localhost:8080/"
        },
        "id": "FgKG3al3cixP",
        "outputId": "423de481-2e31-4c81-98f2-bca1b31bda92"
      },
      "source": [
        "df['DEATH_EVENT'].value_counts()"
      ],
      "execution_count": 5,
      "outputs": [
        {
          "output_type": "execute_result",
          "data": {
            "text/plain": [
              "0    203\n",
              "1     96\n",
              "Name: DEATH_EVENT, dtype: int64"
            ]
          },
          "metadata": {
            "tags": []
          },
          "execution_count": 5
        }
      ]
    },
    {
      "cell_type": "code",
      "metadata": {
        "colab": {
          "base_uri": "https://localhost:8080/"
        },
        "id": "5ypadXqRcodF",
        "outputId": "b933dac1-c2d5-489c-d719-97e5662218ab"
      },
      "source": [
        "df.isnull().sum()"
      ],
      "execution_count": 6,
      "outputs": [
        {
          "output_type": "execute_result",
          "data": {
            "text/plain": [
              "age                         0\n",
              "anaemia                     0\n",
              "creatinine_phosphokinase    0\n",
              "diabetes                    0\n",
              "ejection_fraction           0\n",
              "high_blood_pressure         0\n",
              "platelets                   0\n",
              "serum_creatinine            0\n",
              "serum_sodium                0\n",
              "sex                         0\n",
              "smoking                     0\n",
              "time                        0\n",
              "DEATH_EVENT                 0\n",
              "dtype: int64"
            ]
          },
          "metadata": {
            "tags": []
          },
          "execution_count": 6
        }
      ]
    },
    {
      "cell_type": "code",
      "metadata": {
        "colab": {
          "base_uri": "https://localhost:8080/",
          "height": 973
        },
        "id": "WLc6UZkbdzTq",
        "outputId": "eff987f5-87d2-4110-aab5-f42c8bf84589"
      },
      "source": [
        "corr = df.corr()\n",
        "ax, fig = plt.subplots(figsize=(15,15))\n",
        "sns.heatmap(corr, vmin=-1, cmap='coolwarm', annot=True)\n",
        "plt.show()"
      ],
      "execution_count": 7,
      "outputs": [
        {
          "output_type": "display_data",
          "data": {
            "image/png": "[encoded data removed]",
            "text/plain": [
              "<Figure size 1080x1080 with 2 Axes>"
            ]
          },
          "metadata": {
            "tags": []
          }
        }
      ]
    },
    {
      "cell_type": "code",
      "metadata": {
        "colab": {
          "base_uri": "https://localhost:8080/"
        },
        "id": "QX-fyqnnd321",
        "outputId": "5441668e-26f0-4687-8b19-a2048c74c1d3"
      },
      "source": [
        "corr[abs(corr['DEATH_EVENT']) > 0.1]['DEATH_EVENT']"
      ],
      "execution_count": 8,
      "outputs": [
        {
          "output_type": "execute_result",
          "data": {
            "text/plain": [
              "age                  0.253729\n",
              "ejection_fraction   -0.268603\n",
              "serum_creatinine     0.294278\n",
              "serum_sodium        -0.195204\n",
              "time                -0.526964\n",
              "DEATH_EVENT          1.000000\n",
              "Name: DEATH_EVENT, dtype: float64"
            ]
          },
          "metadata": {
            "tags": []
          },
          "execution_count": 8
        }
      ]
    },
    {
      "cell_type": "code",
      "metadata": {
        "colab": {
          "base_uri": "https://localhost:8080/"
        },
        "id": "QkvYOq_YaBIq",
        "outputId": "9bb02cc8-9c9f-4d9d-d41f-19471d9e90bc"
      },
      "source": [
        "df.columns"
      ],
      "execution_count": 9,
      "outputs": [
        {
          "output_type": "execute_result",
          "data": {
            "text/plain": [
              "Index(['age', 'anaemia', 'creatinine_phosphokinase', 'diabetes',\n",
              "       'ejection_fraction', 'high_blood_pressure', 'platelets',\n",
              "       'serum_creatinine', 'serum_sodium', 'sex', 'smoking', 'time',\n",
              "       'DEATH_EVENT'],\n",
              "      dtype='object')"
            ]
          },
          "metadata": {
            "tags": []
          },
          "execution_count": 9
        }
      ]
    },
    {
      "cell_type": "markdown",
      "metadata": {
        "id": "xGDRwqfRZk7Z"
      },
      "source": [
        "# Model Building"
      ]
    },
    {
      "cell_type": "markdown",
      "metadata": {
        "id": "doHMGelVmQWB"
      },
      "source": [
        "## Basic Mode"
      ]
    },
    {
      "cell_type": "markdown",
      "metadata": {
        "id": "B9Vn0KevsOY0"
      },
      "source": [
        "### Training Model"
      ]
    },
    {
      "cell_type": "code",
      "metadata": {
        "colab": {
          "base_uri": "https://localhost:8080/"
        },
        "id": "0cXxMV8QmQWB",
        "outputId": "123595f3-e35a-4cdf-9bae-1448d0c6a4db"
      },
      "source": [
        "# Select feature\n",
        "x_basic = df[['age', 'anaemia', 'diabetes', 'high_blood_pressure', 'sex', 'smoking']]\n",
        "y_basic = df['DEATH_EVENT']\n",
        "\n",
        "# Scale data\n",
        "from sklearn.preprocessing import StandardScaler\n",
        "scaler = StandardScaler()\n",
        "x_basic_scaled = x_basic.copy()\n",
        "x_basic_scaled[['age']] = scaler.fit_transform(x_basic[['age']])\n",
        "\n",
        "# Split dataset\n",
        "from sklearn.model_selection import train_test_split\n",
        "x_basic_train, x_basic_test, y_basic_train, y_basic_test = train_test_split(x_basic_scaled, y_basic, random_state=1, test_size=0.2)\n",
        "\n",
        "# Train model\n",
        "from xgboost import XGBClassifier\n",
        "from sklearn.metrics import roc_auc_score, accuracy_score, plot_confusion_matrix\n",
        "from sklearn.model_selection import StratifiedKFold, GridSearchCV\n",
        "\n",
        "params = {\n",
        "        'min_child_weight': [1, 5, 10],\n",
        "        'gamma': [0.5, 1, 1.5, 2, 5],\n",
        "        'subsample': [0.6, 0.8, 1.0],\n",
        "        'colsample_bytree': [0.6, 0.8, 1.0],\n",
        "        'max_depth': [3, 4, 5]\n",
        "        }\n",
        "\n",
        "xgb = XGBClassifier(learning_rate=0.01, n_estimators=1000, objective='binary:logistic')\n",
        "\n",
        "skf = StratifiedKFold(n_splits=5, shuffle=True, random_state=0)\n",
        "\n",
        "grid_basic = GridSearchCV(estimator=xgb, param_grid=params, n_jobs=-1,\n",
        "                          cv=skf.split(x_basic_train, y_basic_train), verbose=0)\n",
        "\n",
        "grid_basic.fit(x_basic_train, y_basic_train, early_stopping_rounds=30, eval_set=[(x_basic_test, y_basic_test)])"
      ],
      "execution_count": 10,
      "outputs": [
        {
          "output_type": "stream",
          "text": [
            "[0]\tvalidation_0-error:0.18333\n",
            "Will train until validation_0-error hasn't improved in 30 rounds.\n",
            "[1]\tvalidation_0-error:0.18333\n",
            "[2]\tvalidation_0-error:0.18333\n",
            "[3]\tvalidation_0-error:0.18333\n",
            "[4]\tvalidation_0-error:0.18333\n",
            "[5]\tvalidation_0-error:0.18333\n",
            "[6]\tvalidation_0-error:0.18333\n",
            "[7]\tvalidation_0-error:0.18333\n",
            "[8]\tvalidation_0-error:0.18333\n",
            "[9]\tvalidation_0-error:0.18333\n",
            "[10]\tvalidation_0-error:0.18333\n",
            "[11]\tvalidation_0-error:0.18333\n",
            "[12]\tvalidation_0-error:0.18333\n",
            "[13]\tvalidation_0-error:0.18333\n",
            "[14]\tvalidation_0-error:0.18333\n",
            "[15]\tvalidation_0-error:0.18333\n",
            "[16]\tvalidation_0-error:0.18333\n",
            "[17]\tvalidation_0-error:0.18333\n",
            "[18]\tvalidation_0-error:0.18333\n",
            "[19]\tvalidation_0-error:0.18333\n",
            "[20]\tvalidation_0-error:0.18333\n",
            "[21]\tvalidation_0-error:0.18333\n",
            "[22]\tvalidation_0-error:0.18333\n",
            "[23]\tvalidation_0-error:0.18333\n",
            "[24]\tvalidation_0-error:0.18333\n",
            "[25]\tvalidation_0-error:0.18333\n",
            "[26]\tvalidation_0-error:0.18333\n",
            "[27]\tvalidation_0-error:0.18333\n",
            "[28]\tvalidation_0-error:0.18333\n",
            "[29]\tvalidation_0-error:0.18333\n",
            "[30]\tvalidation_0-error:0.18333\n",
            "Stopping. Best iteration:\n",
            "[0]\tvalidation_0-error:0.18333\n",
            "\n"
          ],
          "name": "stdout"
        },
        {
          "output_type": "execute_result",
          "data": {
            "text/plain": [
              "GridSearchCV(cv=<generator object _BaseKFold.split at 0x7fa385e69af0>,\n",
              "             error_score=nan,\n",
              "             estimator=XGBClassifier(base_score=None, booster=None,\n",
              "                                     colsample_bylevel=None,\n",
              "                                     colsample_bynode=None,\n",
              "                                     colsample_bytree=None, gamma=None,\n",
              "                                     gpu_id=None, importance_type='gain',\n",
              "                                     interaction_constraints=None,\n",
              "                                     learning_rate=0.01, max_delta_step=None,\n",
              "                                     max_depth=None, min_child_weight=No...\n",
              "                                     reg_lambda=None, scale_pos_weight=None,\n",
              "                                     subsample=None, tree_method=None,\n",
              "                                     validate_parameters=None, verbosity=None),\n",
              "             iid='deprecated', n_jobs=-1,\n",
              "             param_grid={'colsample_bytree': [0.6, 0.8, 1.0],\n",
              "                         'gamma': [0.5, 1, 1.5, 2, 5], 'max_depth': [3, 4, 5],\n",
              "                         'min_child_weight': [1, 5, 10],\n",
              "                         'subsample': [0.6, 0.8, 1.0]},\n",
              "             pre_dispatch='2*n_jobs', refit=True, return_train_score=False,\n",
              "             scoring=None, verbose=0)"
            ]
          },
          "metadata": {
            "tags": []
          },
          "execution_count": 10
        }
      ]
    },
    {
      "cell_type": "code",
      "metadata": {
        "colab": {
          "base_uri": "https://localhost:8080/"
        },
        "id": "ACY4_ok8ZtM0",
        "outputId": "dde5dec0-f48c-454c-d458-696ffe43424f"
      },
      "source": [
        "grid_basic.best_params_"
      ],
      "execution_count": 11,
      "outputs": [
        {
          "output_type": "execute_result",
          "data": {
            "text/plain": [
              "{'colsample_bytree': 1.0,\n",
              " 'gamma': 5,\n",
              " 'max_depth': 3,\n",
              " 'min_child_weight': 1,\n",
              " 'subsample': 0.6}"
            ]
          },
          "metadata": {
            "tags": []
          },
          "execution_count": 11
        }
      ]
    },
    {
      "cell_type": "markdown",
      "metadata": {
        "id": "suS34DbOsVlw"
      },
      "source": [
        "### Evaluating Model"
      ]
    },
    {
      "cell_type": "code",
      "metadata": {
        "colab": {
          "base_uri": "https://localhost:8080/",
          "height": 468
        },
        "id": "XIwruGiCrbnO",
        "outputId": "2a7d88f1-0dc6-49c8-c805-79b9ab0b0cc9"
      },
      "source": [
        "from sklearn import metrics\n",
        "from sklearn.metrics import plot_confusion_matrix\n",
        "\n",
        "best_grid_basic = grid_basic.best_estimator_\n",
        "best_grid_basic_pred = best_grid_basic.predict(x_basic_test)\n",
        "\n",
        "# Calculate accuracy, precision, recall, f1-score, and kappa score\n",
        "best_grid_basic_acc = metrics.accuracy_score(y_basic_test, best_grid_basic_pred)\n",
        "best_grid_basic_prec = metrics.precision_score(y_basic_test, best_grid_basic_pred)\n",
        "best_grid_basic_rec = metrics.recall_score(y_basic_test, best_grid_basic_pred)\n",
        "best_grid_basic_f1 = metrics.f1_score(y_basic_test, best_grid_basic_pred)\n",
        "best_grid_basic_kappa = metrics.cohen_kappa_score(y_basic_test, best_grid_basic_pred)\n",
        "\n",
        "# Calculate area under curve (AUC)\n",
        "best_grid_basic_pred_proba = best_grid_basic.predict_proba(x_basic_test)[::,1]\n",
        "best_grid_basic_fpr, best_grid_basic_tpr, _ = metrics.roc_curve(y_basic_test,  best_grid_basic_pred_proba)\n",
        "best_grid_basic_auc = metrics.roc_auc_score(y_basic_test, best_grid_basic_pred_proba)\n",
        "\n",
        "print('Accuracy:', best_grid_basic_acc)\n",
        "print('Precision:', best_grid_basic_prec)\n",
        "print('Recall:', best_grid_basic_rec)\n",
        "print('F1 score:', best_grid_basic_f1)\n",
        "print('Cohen Kappa Score:', best_grid_basic_kappa)\n",
        "print('AUC:', best_grid_basic_auc)\n",
        "\n",
        "# Display confussion matrix\n",
        "plot_confusion_matrix(best_grid_basic, x_basic_test, y_basic_test)\n",
        "plt.grid(False)\n",
        "plt.show()"
      ],
      "execution_count": 12,
      "outputs": [
        {
          "output_type": "stream",
          "text": [
            "Accuracy: 0.8166666666666667\n",
            "Precision: 1.0\n",
            "Recall: 0.21428571428571427\n",
            "F1 score: 0.35294117647058826\n",
            "Cohen Kappa Score: 0.29487179487179493\n",
            "AUC: 0.6071428571428571\n"
          ],
          "name": "stdout"
        },
        {
          "output_type": "display_data",
          "data": {
            "image/png": "[encoded data removed]",
            "text/plain": [
              "<Figure size 576x396 with 2 Axes>"
            ]
          },
          "metadata": {
            "tags": []
          }
        }
      ]
    },
    {
      "cell_type": "markdown",
      "metadata": {
        "id": "01_Qwh33wZzj"
      },
      "source": [
        "### Save Model"
      ]
    },
    {
      "cell_type": "code",
      "metadata": {
        "colab": {
          "base_uri": "https://localhost:8080/"
        },
        "id": "-LCLZimVv9yf",
        "outputId": "66ab69f6-2f05-451e-e297-07af862d130a"
      },
      "source": [
        "import joblib\n",
        "\n",
        "# Saving model\n",
        "joblib.dump(best_grid_basic, 'Heart Failure Prediction (Basic).joblib')\n",
        "\n",
        "def predict_basic(age, anaemia, diabetes, high_blood_pressure, sex, smoking):\n",
        "    basic_model = joblib.load('Heart Failure Prediction (Basic).joblib') \n",
        "\n",
        "    predict_df = pd.DataFrame([[age, anaemia, diabetes, high_blood_pressure, sex, smoking]],\n",
        "                              columns=['age', 'anaemia', 'diabetes', 'high_blood_pressure', 'sex', 'smoking'])\n",
        "\n",
        "    pred = basic_model.predict(predict_df)[0]\n",
        "\n",
        "    if pred==1: return 'True'\n",
        "    else: return 'False'\n",
        "\n",
        "print(predict_basic(1, 0, 0, 0, 0, 0))\n",
        "print(predict_basic(99, 1, 1, 1, 1, 1))"
      ],
      "execution_count": 15,
      "outputs": [
        {
          "output_type": "stream",
          "text": [
            "False\n",
            "True\n"
          ],
          "name": "stdout"
        }
      ]
    },
    {
      "cell_type": "code",
      "metadata": {
        "colab": {
          "base_uri": "https://localhost:8080/",
          "height": 36
        },
        "id": "eYJjw1yfFPzg",
        "outputId": "61d7720e-76a3-4978-ac8c-5fb059a8416e"
      },
      "source": [
        "import pickle\n",
        "\n",
        "# Saving model\n",
        "pickle.dump(best_grid_basic, open('Heart Failure Prediction (Basic).pkl', 'wb'))\n",
        "\n",
        "def predict_basic(age, anaemia, diabetes, high_blood_pressure, sex, smoking):\n",
        "    basic_model = pickle.load(open('Heart Failure Prediction (Basic).pkl', 'rb'))\n",
        "\n",
        "    predict_df = pd.DataFrame([[age, anaemia, diabetes, high_blood_pressure, sex, smoking]],\n",
        "                              columns=['age', 'anaemia', 'diabetes', 'high_blood_pressure', 'sex', 'smoking'])\n",
        "\n",
        "    pred = basic_model.predict(predict_df)[0]\n",
        "\n",
        "    if pred==1: return 'True'\n",
        "    else: return 'False'\n",
        "\n",
        "predict_basic(1, 0, 0, 0, 0, 0)"
      ],
      "execution_count": 123,
      "outputs": [
        {
          "output_type": "execute_result",
          "data": {
            "application/vnd.google.colaboratory.intrinsic+json": {
              "type": "string"
            },
            "text/plain": [
              "'False'"
            ]
          },
          "metadata": {
            "tags": []
          },
          "execution_count": 123
        }
      ]
    },
    {
      "cell_type": "markdown",
      "metadata": {
        "id": "ExWCaeJEmMT6"
      },
      "source": [
        "## Advanced Mode"
      ]
    },
    {
      "cell_type": "markdown",
      "metadata": {
        "id": "xi_3hVQKsMZy"
      },
      "source": [
        "### Training Model"
      ]
    },
    {
      "cell_type": "code",
      "metadata": {
        "colab": {
          "base_uri": "https://localhost:8080/"
        },
        "id": "QiIr4tUTf_le",
        "outputId": "e32b6b5b-eb55-41d6-a68c-c35c0a4e3043"
      },
      "source": [
        "# Select feature\n",
        "x_adv = df[['age', 'ejection_fraction', 'serum_creatinine', 'serum_sodium']]\n",
        "y_adv = df['DEATH_EVENT']\n",
        "\n",
        "# Scale data\n",
        "from sklearn.preprocessing import StandardScaler\n",
        "# Copying original dataframe\n",
        "scaler = StandardScaler()\n",
        "x_adv_scaled = x_adv.copy()\n",
        "num_cols = ['age', 'ejection_fraction', 'serum_creatinine', 'serum_sodium']\n",
        "x_adv_scaled[num_cols] = scaler.fit_transform(x_adv[num_cols])\n",
        "# x_adv_scaled = scaler.fit_transform(x_adv)\n",
        "\n",
        "# Split dataset\n",
        "from sklearn.model_selection import train_test_split\n",
        "x_adv_train, x_adv_test, y_adv_train, y_adv_test = train_test_split(x_adv_scaled, y_adv, random_state=1, test_size=0.2)\n",
        "\n",
        "# Train model\n",
        "from xgboost import XGBClassifier\n",
        "from xgboost.sklearn import XGBModel\n",
        "from sklearn.metrics import roc_auc_score, accuracy_score, plot_confusion_matrix\n",
        "from sklearn.model_selection import StratifiedKFold, GridSearchCV\n",
        "\n",
        "params = {\n",
        "        'min_child_weight': [1, 5, 10],\n",
        "        'gamma': [0.5, 1, 1.5, 2, 5],\n",
        "        'subsample': [0.6, 0.8, 1.0],\n",
        "        'colsample_bytree': [0.6, 0.8, 1.0],\n",
        "        'max_depth': [3, 4, 5]\n",
        "        }\n",
        "\n",
        "xgb_adv = XGBModel(learning_rate=0.01, n_estimators=1000, objective='binary:logistic')\n",
        "\n",
        "skf = StratifiedKFold(n_splits=5, shuffle=True, random_state=0)\n",
        "\n",
        "grid_adv = GridSearchCV(estimator=xgb, param_grid=params, n_jobs=-1,\n",
        "                    cv=skf.split(x_adv_train, y_adv_train), verbose=0)\n",
        "\n",
        "grid_adv.fit(x_adv_train ,y_adv_train, early_stopping_rounds=30, eval_set=[(x_adv_test, y_adv_test)])"
      ],
      "execution_count": 17,
      "outputs": [
        {
          "output_type": "stream",
          "text": [
            "[0]\tvalidation_0-error:0.23333\n",
            "Will train until validation_0-error hasn't improved in 30 rounds.\n",
            "[1]\tvalidation_0-error:0.23333\n",
            "[2]\tvalidation_0-error:0.25000\n",
            "[3]\tvalidation_0-error:0.21667\n",
            "[4]\tvalidation_0-error:0.25000\n",
            "[5]\tvalidation_0-error:0.21667\n",
            "[6]\tvalidation_0-error:0.25000\n",
            "[7]\tvalidation_0-error:0.23333\n",
            "[8]\tvalidation_0-error:0.23333\n",
            "[9]\tvalidation_0-error:0.26667\n",
            "[10]\tvalidation_0-error:0.20000\n",
            "[11]\tvalidation_0-error:0.21667\n",
            "[12]\tvalidation_0-error:0.20000\n",
            "[13]\tvalidation_0-error:0.18333\n",
            "[14]\tvalidation_0-error:0.18333\n",
            "[15]\tvalidation_0-error:0.18333\n",
            "[16]\tvalidation_0-error:0.18333\n",
            "[17]\tvalidation_0-error:0.18333\n",
            "[18]\tvalidation_0-error:0.18333\n",
            "[19]\tvalidation_0-error:0.18333\n",
            "[20]\tvalidation_0-error:0.18333\n",
            "[21]\tvalidation_0-error:0.18333\n",
            "[22]\tvalidation_0-error:0.18333\n",
            "[23]\tvalidation_0-error:0.16667\n",
            "[24]\tvalidation_0-error:0.18333\n",
            "[25]\tvalidation_0-error:0.18333\n",
            "[26]\tvalidation_0-error:0.18333\n",
            "[27]\tvalidation_0-error:0.18333\n",
            "[28]\tvalidation_0-error:0.18333\n",
            "[29]\tvalidation_0-error:0.18333\n",
            "[30]\tvalidation_0-error:0.18333\n",
            "[31]\tvalidation_0-error:0.18333\n",
            "[32]\tvalidation_0-error:0.16667\n",
            "[33]\tvalidation_0-error:0.18333\n",
            "[34]\tvalidation_0-error:0.18333\n",
            "[35]\tvalidation_0-error:0.18333\n",
            "[36]\tvalidation_0-error:0.16667\n",
            "[37]\tvalidation_0-error:0.18333\n",
            "[38]\tvalidation_0-error:0.18333\n",
            "[39]\tvalidation_0-error:0.18333\n",
            "[40]\tvalidation_0-error:0.16667\n",
            "[41]\tvalidation_0-error:0.15000\n",
            "[42]\tvalidation_0-error:0.15000\n",
            "[43]\tvalidation_0-error:0.15000\n",
            "[44]\tvalidation_0-error:0.15000\n",
            "[45]\tvalidation_0-error:0.16667\n",
            "[46]\tvalidation_0-error:0.16667\n",
            "[47]\tvalidation_0-error:0.16667\n",
            "[48]\tvalidation_0-error:0.18333\n",
            "[49]\tvalidation_0-error:0.16667\n",
            "[50]\tvalidation_0-error:0.16667\n",
            "[51]\tvalidation_0-error:0.15000\n",
            "[52]\tvalidation_0-error:0.16667\n",
            "[53]\tvalidation_0-error:0.15000\n",
            "[54]\tvalidation_0-error:0.16667\n",
            "[55]\tvalidation_0-error:0.16667\n",
            "[56]\tvalidation_0-error:0.16667\n",
            "[57]\tvalidation_0-error:0.13333\n",
            "[58]\tvalidation_0-error:0.15000\n",
            "[59]\tvalidation_0-error:0.16667\n",
            "[60]\tvalidation_0-error:0.16667\n",
            "[61]\tvalidation_0-error:0.16667\n",
            "[62]\tvalidation_0-error:0.18333\n",
            "[63]\tvalidation_0-error:0.18333\n",
            "[64]\tvalidation_0-error:0.18333\n",
            "[65]\tvalidation_0-error:0.18333\n",
            "[66]\tvalidation_0-error:0.18333\n",
            "[67]\tvalidation_0-error:0.18333\n",
            "[68]\tvalidation_0-error:0.18333\n",
            "[69]\tvalidation_0-error:0.18333\n",
            "[70]\tvalidation_0-error:0.18333\n",
            "[71]\tvalidation_0-error:0.18333\n",
            "[72]\tvalidation_0-error:0.18333\n",
            "[73]\tvalidation_0-error:0.18333\n",
            "[74]\tvalidation_0-error:0.18333\n",
            "[75]\tvalidation_0-error:0.18333\n",
            "[76]\tvalidation_0-error:0.18333\n",
            "[77]\tvalidation_0-error:0.18333\n",
            "[78]\tvalidation_0-error:0.18333\n",
            "[79]\tvalidation_0-error:0.18333\n",
            "[80]\tvalidation_0-error:0.18333\n",
            "[81]\tvalidation_0-error:0.18333\n",
            "[82]\tvalidation_0-error:0.18333\n",
            "[83]\tvalidation_0-error:0.18333\n",
            "[84]\tvalidation_0-error:0.18333\n",
            "[85]\tvalidation_0-error:0.18333\n",
            "[86]\tvalidation_0-error:0.18333\n",
            "[87]\tvalidation_0-error:0.18333\n",
            "Stopping. Best iteration:\n",
            "[57]\tvalidation_0-error:0.13333\n",
            "\n"
          ],
          "name": "stdout"
        },
        {
          "output_type": "execute_result",
          "data": {
            "text/plain": [
              "GridSearchCV(cv=<generator object _BaseKFold.split at 0x7fa380989360>,\n",
              "             error_score=nan,\n",
              "             estimator=XGBClassifier(base_score=None, booster=None,\n",
              "                                     colsample_bylevel=None,\n",
              "                                     colsample_bynode=None,\n",
              "                                     colsample_bytree=None, gamma=None,\n",
              "                                     gpu_id=None, importance_type='gain',\n",
              "                                     interaction_constraints=None,\n",
              "                                     learning_rate=0.01, max_delta_step=None,\n",
              "                                     max_depth=None, min_child_weight=No...\n",
              "                                     reg_lambda=None, scale_pos_weight=None,\n",
              "                                     subsample=None, tree_method=None,\n",
              "                                     validate_parameters=None, verbosity=None),\n",
              "             iid='deprecated', n_jobs=-1,\n",
              "             param_grid={'colsample_bytree': [0.6, 0.8, 1.0],\n",
              "                         'gamma': [0.5, 1, 1.5, 2, 5], 'max_depth': [3, 4, 5],\n",
              "                         'min_child_weight': [1, 5, 10],\n",
              "                         'subsample': [0.6, 0.8, 1.0]},\n",
              "             pre_dispatch='2*n_jobs', refit=True, return_train_score=False,\n",
              "             scoring=None, verbose=0)"
            ]
          },
          "metadata": {
            "tags": []
          },
          "execution_count": 17
        }
      ]
    },
    {
      "cell_type": "code",
      "metadata": {
        "colab": {
          "base_uri": "https://localhost:8080/"
        },
        "id": "kbetkfzMZ8OC",
        "outputId": "37bd561b-1a00-4d5f-968b-8d5068567751"
      },
      "source": [
        "grid_adv.best_params_"
      ],
      "execution_count": 18,
      "outputs": [
        {
          "output_type": "execute_result",
          "data": {
            "text/plain": [
              "{'colsample_bytree': 1.0,\n",
              " 'gamma': 2,\n",
              " 'max_depth': 4,\n",
              " 'min_child_weight': 1,\n",
              " 'subsample': 0.6}"
            ]
          },
          "metadata": {
            "tags": []
          },
          "execution_count": 18
        }
      ]
    },
    {
      "cell_type": "markdown",
      "metadata": {
        "id": "UOXnNAKCsTyV"
      },
      "source": [
        "### Evaluating Model"
      ]
    },
    {
      "cell_type": "code",
      "metadata": {
        "id": "9Gmvo4bXhjBq",
        "colab": {
          "base_uri": "https://localhost:8080/",
          "height": 468
        },
        "outputId": "5f6db217-60c3-4fce-aab1-3d7a9138e395"
      },
      "source": [
        "from sklearn import metrics\n",
        "from sklearn.metrics import plot_confusion_matrix\n",
        "\n",
        "best_grid_adv = grid_adv.best_estimator_\n",
        "best_grid_adv_pred = best_grid_adv.predict(x_adv_test)\n",
        "\n",
        "# Calculate accuracy, precision, recall, f1-score, and kappa score\n",
        "best_grid_adv_acc = metrics.accuracy_score(y_adv_test, best_grid_adv_pred)\n",
        "best_grid_adv_prec = metrics.precision_score(y_adv_test, best_grid_adv_pred)\n",
        "best_grid_adv_rec = metrics.recall_score(y_adv_test, best_grid_adv_pred)\n",
        "best_grid_adv_f1 = metrics.f1_score(y_adv_test, best_grid_adv_pred)\n",
        "best_grid_adv_kappa = metrics.cohen_kappa_score(y_adv_test, best_grid_adv_pred)\n",
        "\n",
        "# Calculate area under curve (AUC)\n",
        "best_grid_adv_pred_proba = best_grid_adv.predict_proba(x_adv_test)[::,1]\n",
        "best_grid_adv_fpr, best_grid_adv_tpr, _ = metrics.roc_curve(y_adv_test,  best_grid_adv_pred_proba)\n",
        "best_grid_adv_auc = metrics.roc_auc_score(y_adv_test, best_grid_adv_pred_proba)\n",
        "\n",
        "print('Accuracy:', best_grid_adv_acc)\n",
        "print('Precision:', best_grid_adv_prec)\n",
        "print('Recall:', best_grid_adv_rec)\n",
        "print('F1 score:', best_grid_adv_f1)\n",
        "print('Cohen Kappa Score:', best_grid_adv_kappa)\n",
        "print('AUC:', best_grid_adv_auc)\n",
        "\n",
        "# Display confussion matrix\n",
        "plot_confusion_matrix(best_grid_adv, x_adv_test, y_adv_test)\n",
        "plt.grid(False)\n",
        "plt.show()"
      ],
      "execution_count": 19,
      "outputs": [
        {
          "output_type": "stream",
          "text": [
            "Accuracy: 0.8666666666666667\n",
            "Precision: 0.7142857142857143\n",
            "Recall: 0.7142857142857143\n",
            "F1 score: 0.7142857142857143\n",
            "Cohen Kappa Score: 0.6273291925465838\n",
            "AUC: 0.8944099378881988\n"
          ],
          "name": "stdout"
        },
        {
          "output_type": "display_data",
          "data": {
            "image/png": "[encoded data removed]",
            "text/plain": [
              "<Figure size 576x396 with 2 Axes>"
            ]
          },
          "metadata": {
            "tags": []
          }
        }
      ]
    },
    {
      "cell_type": "markdown",
      "metadata": {
        "id": "mqc5Z8q31Vpj"
      },
      "source": [
        "### Save Model"
      ]
    },
    {
      "cell_type": "code",
      "metadata": {
        "colab": {
          "base_uri": "https://localhost:8080/"
        },
        "id": "29NSLlVU1Vpj",
        "outputId": "4b080c2e-25ef-484a-e821-61fc0386541c"
      },
      "source": [
        "import joblib\n",
        "\n",
        "# Saving model\n",
        "joblib.dump(best_grid_adv, 'Heart Failure Prediction (Advanced).joblib')\n",
        "\n",
        "def predict_advanced(age, ejection_fraction, serum_creatinine, serum_sodium):\n",
        "    advanced_model = joblib.load('Heart Failure Prediction (Advanced).joblib') \n",
        "\n",
        "    predict_df = pd.DataFrame([[age, ejection_fraction, serum_creatinine, serum_sodium]],\n",
        "                              columns=[['age', 'ejection_fraction', 'serum_creatinine', 'serum_sodium']])\n",
        "\n",
        "    pred = advanced_model.predict(predict_df)[0]\n",
        "\n",
        "    if pred==1: return 'True'\n",
        "    else: return 'False'\n",
        "\n",
        "print(predict_advanced(21, 60, 1.5, 90))\n",
        "print(predict_advanced(12, 30, 2.5, 120))"
      ],
      "execution_count": 21,
      "outputs": [
        {
          "output_type": "stream",
          "text": [
            "True\n",
            "True\n"
          ],
          "name": "stdout"
        }
      ]
    }
  ]
}