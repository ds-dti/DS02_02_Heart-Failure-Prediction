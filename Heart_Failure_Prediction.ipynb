{
  "nbformat": 4,
  "nbformat_minor": 0,
  "metadata": {
    "colab": {
      "name": "Heart Failure Prediction.ipynb",
      "provenance": [],
      "collapsed_sections": [],
      "authorship_tag": "ABX9TyPNTH3hXrnUQDHNe75Jv+sx",
      "include_colab_link": true
    },
    "kernelspec": {
      "name": "python3",
      "display_name": "Python 3"
    }
  },
  "cells": [
    {
      "cell_type": "markdown",
      "metadata": {
        "id": "view-in-github",
        "colab_type": "text"
      },
      "source": [
        "<a href=\"https://colab.research.google.com/github/rafiag/Heart-Failure-Prediction/blob/main/Heart_Failure_Prediction.ipynb\" target=\"_parent\"><img src=\"https://colab.research.google.com/assets/colab-badge.svg\" alt=\"Open In Colab\"/></a>"
      ]
    },
    {
      "cell_type": "code",
      "metadata": {
        "id": "5iZunomeWZO2"
      },
      "source": [
        "# Import libraries\n",
        "## Basic libs\n",
        "import pandas as pd\n",
        "import numpy as np\n",
        "import warnings\n",
        "## Data Visualization\n",
        "import seaborn as sns\n",
        "import matplotlib.pyplot as plt\n",
        "\n",
        "# Configure libraries\n",
        "warnings.filterwarnings('ignore')\n",
        "plt.rcParams['figure.figsize'] = (10, 10)\n",
        "plt.style.use('seaborn')"
      ],
      "execution_count": null,
      "outputs": []
    },
    {
      "cell_type": "code",
      "metadata": {
        "colab": {
          "base_uri": "https://localhost:8080/",
          "height": 244
        },
        "id": "33hw6Z0QcYwM",
        "outputId": "83e7dfbb-40a5-4658-de76-65a697f03f77"
      },
      "source": [
        "# Load dataset\n",
        "df = pd.read_csv('https://github.com/rafiag/Heart-Failure-Prediction/raw/main/heart_failure_clinical_records_dataset.csv')\n",
        "\n",
        "# print(df_bank.info())\n",
        "print('Shape of dataframe:', df.shape)\n",
        "df.head()"
      ],
      "execution_count": null,
      "outputs": [
        {
          "output_type": "stream",
          "text": [
            "Shape of dataframe: (299, 13)\n"
          ],
          "name": "stdout"
        },
        {
          "output_type": "execute_result",
          "data": {
            "text/html": [
              "<div>\n",
              "<style scoped>\n",
              "    .dataframe tbody tr th:only-of-type {\n",
              "        vertical-align: middle;\n",
              "    }\n",
              "\n",
              "    .dataframe tbody tr th {\n",
              "        vertical-align: top;\n",
              "    }\n",
              "\n",
              "    .dataframe thead th {\n",
              "        text-align: right;\n",
              "    }\n",
              "</style>\n",
              "<table border=\"1\" class=\"dataframe\">\n",
              "  <thead>\n",
              "    <tr style=\"text-align: right;\">\n",
              "      <th></th>\n",
              "      <th>age</th>\n",
              "      <th>anaemia</th>\n",
              "      <th>creatinine_phosphokinase</th>\n",
              "      <th>diabetes</th>\n",
              "      <th>ejection_fraction</th>\n",
              "      <th>high_blood_pressure</th>\n",
              "      <th>platelets</th>\n",
              "      <th>serum_creatinine</th>\n",
              "      <th>serum_sodium</th>\n",
              "      <th>sex</th>\n",
              "      <th>smoking</th>\n",
              "      <th>time</th>\n",
              "      <th>DEATH_EVENT</th>\n",
              "    </tr>\n",
              "  </thead>\n",
              "  <tbody>\n",
              "    <tr>\n",
              "      <th>0</th>\n",
              "      <td>75.0</td>\n",
              "      <td>0</td>\n",
              "      <td>582</td>\n",
              "      <td>0</td>\n",
              "      <td>20</td>\n",
              "      <td>1</td>\n",
              "      <td>265000.00</td>\n",
              "      <td>1.9</td>\n",
              "      <td>130</td>\n",
              "      <td>1</td>\n",
              "      <td>0</td>\n",
              "      <td>4</td>\n",
              "      <td>1</td>\n",
              "    </tr>\n",
              "    <tr>\n",
              "      <th>1</th>\n",
              "      <td>55.0</td>\n",
              "      <td>0</td>\n",
              "      <td>7861</td>\n",
              "      <td>0</td>\n",
              "      <td>38</td>\n",
              "      <td>0</td>\n",
              "      <td>263358.03</td>\n",
              "      <td>1.1</td>\n",
              "      <td>136</td>\n",
              "      <td>1</td>\n",
              "      <td>0</td>\n",
              "      <td>6</td>\n",
              "      <td>1</td>\n",
              "    </tr>\n",
              "    <tr>\n",
              "      <th>2</th>\n",
              "      <td>65.0</td>\n",
              "      <td>0</td>\n",
              "      <td>146</td>\n",
              "      <td>0</td>\n",
              "      <td>20</td>\n",
              "      <td>0</td>\n",
              "      <td>162000.00</td>\n",
              "      <td>1.3</td>\n",
              "      <td>129</td>\n",
              "      <td>1</td>\n",
              "      <td>1</td>\n",
              "      <td>7</td>\n",
              "      <td>1</td>\n",
              "    </tr>\n",
              "    <tr>\n",
              "      <th>3</th>\n",
              "      <td>50.0</td>\n",
              "      <td>1</td>\n",
              "      <td>111</td>\n",
              "      <td>0</td>\n",
              "      <td>20</td>\n",
              "      <td>0</td>\n",
              "      <td>210000.00</td>\n",
              "      <td>1.9</td>\n",
              "      <td>137</td>\n",
              "      <td>1</td>\n",
              "      <td>0</td>\n",
              "      <td>7</td>\n",
              "      <td>1</td>\n",
              "    </tr>\n",
              "    <tr>\n",
              "      <th>4</th>\n",
              "      <td>65.0</td>\n",
              "      <td>1</td>\n",
              "      <td>160</td>\n",
              "      <td>1</td>\n",
              "      <td>20</td>\n",
              "      <td>0</td>\n",
              "      <td>327000.00</td>\n",
              "      <td>2.7</td>\n",
              "      <td>116</td>\n",
              "      <td>0</td>\n",
              "      <td>0</td>\n",
              "      <td>8</td>\n",
              "      <td>1</td>\n",
              "    </tr>\n",
              "  </tbody>\n",
              "</table>\n",
              "</div>"
            ],
            "text/plain": [
              "    age  anaemia  creatinine_phosphokinase  ...  smoking  time  DEATH_EVENT\n",
              "0  75.0        0                       582  ...        0     4            1\n",
              "1  55.0        0                      7861  ...        0     6            1\n",
              "2  65.0        0                       146  ...        1     7            1\n",
              "3  50.0        1                       111  ...        0     7            1\n",
              "4  65.0        1                       160  ...        0     8            1\n",
              "\n",
              "[5 rows x 13 columns]"
            ]
          },
          "metadata": {
            "tags": []
          },
          "execution_count": 2
        }
      ]
    },
    {
      "cell_type": "code",
      "metadata": {
        "colab": {
          "base_uri": "https://localhost:8080/"
        },
        "id": "FgKG3al3cixP",
        "outputId": "bb473cb5-f9cd-4648-fb97-aabfc5a228d3"
      },
      "source": [
        "df['DEATH_EVENT'].value_counts()"
      ],
      "execution_count": null,
      "outputs": [
        {
          "output_type": "execute_result",
          "data": {
            "text/plain": [
              "0    203\n",
              "1     96\n",
              "Name: DEATH_EVENT, dtype: int64"
            ]
          },
          "metadata": {
            "tags": []
          },
          "execution_count": 3
        }
      ]
    },
    {
      "cell_type": "code",
      "metadata": {
        "colab": {
          "base_uri": "https://localhost:8080/"
        },
        "id": "5ypadXqRcodF",
        "outputId": "20978982-2508-4ab9-fe7e-8e42cd3cf8d1"
      },
      "source": [
        "df.isnull().sum()"
      ],
      "execution_count": null,
      "outputs": [
        {
          "output_type": "execute_result",
          "data": {
            "text/plain": [
              "age                         0\n",
              "anaemia                     0\n",
              "creatinine_phosphokinase    0\n",
              "diabetes                    0\n",
              "ejection_fraction           0\n",
              "high_blood_pressure         0\n",
              "platelets                   0\n",
              "serum_creatinine            0\n",
              "serum_sodium                0\n",
              "sex                         0\n",
              "smoking                     0\n",
              "time                        0\n",
              "DEATH_EVENT                 0\n",
              "dtype: int64"
            ]
          },
          "metadata": {
            "tags": []
          },
          "execution_count": 4
        }
      ]
    },
    {
      "cell_type": "code",
      "metadata": {
        "colab": {
          "base_uri": "https://localhost:8080/",
          "height": 973
        },
        "id": "WLc6UZkbdzTq",
        "outputId": "78faf70a-1985-42e4-a944-37b42d99bcb1"
      },
      "source": [
        "corr = df.corr()\n",
        "ax, fig = plt.subplots(figsize=(15,15))\n",
        "sns.heatmap(corr, vmin=-1, cmap='coolwarm', annot=True)\n",
        "plt.show()"
      ],
      "execution_count": null,
      "outputs": [
        {
          "output_type": "display_data",
          "data": {
            "image/png": "[encoded data removed]",
            "text/plain": [
              "<Figure size 1080x1080 with 2 Axes>"
            ]
          },
          "metadata": {
            "tags": [],
            "needs_background": "light"
          }
        }
      ]
    },
    {
      "cell_type": "markdown",
      "metadata": {
        "id": "ExWCaeJEmMT6"
      },
      "source": [
        "# Best feature"
      ]
    },
    {
      "cell_type": "code",
      "metadata": {
        "colab": {
          "base_uri": "https://localhost:8080/"
        },
        "id": "QX-fyqnnd321",
        "outputId": "68e1c791-389a-4691-be98-63a6e3342f7c"
      },
      "source": [
        "corr[abs(corr['DEATH_EVENT']) > 0.1]['DEATH_EVENT']"
      ],
      "execution_count": null,
      "outputs": [
        {
          "output_type": "execute_result",
          "data": {
            "text/plain": [
              "age                  0.253729\n",
              "ejection_fraction   -0.268603\n",
              "serum_creatinine     0.294278\n",
              "serum_sodium        -0.195204\n",
              "time                -0.526964\n",
              "DEATH_EVENT          1.000000\n",
              "Name: DEATH_EVENT, dtype: float64"
            ]
          },
          "metadata": {
            "tags": []
          },
          "execution_count": 6
        }
      ]
    },
    {
      "cell_type": "code",
      "metadata": {
        "id": "UqrLSioefy1l"
      },
      "source": [
        "x = df[['ejection_fraction', 'serum_creatinine', 'serum_sodium', 'time']]\n",
        "y = df['DEATH_EVENT']"
      ],
      "execution_count": null,
      "outputs": []
    },
    {
      "cell_type": "code",
      "metadata": {
        "colab": {
          "base_uri": "https://localhost:8080/"
        },
        "id": "QY3EQY36ernf",
        "outputId": "fc15a2de-9ad9-484e-8c83-78612584b52e"
      },
      "source": [
        "from sklearn.preprocessing import StandardScaler\n",
        "\n",
        "# Copying original dataframe\n",
        "scaler = StandardScaler()\n",
        "num_cols = ['ejection_fraction', 'serum_creatinine', 'serum_sodium', 'time']\n",
        "x_scaled = scaler.fit_transform(x)\n",
        "\n",
        "x_scaled"
      ],
      "execution_count": null,
      "outputs": [
        {
          "output_type": "execute_result",
          "data": {
            "text/plain": [
              "array([[-1.53055953,  0.49005699, -1.50403612, -1.62950241],\n",
              "       [-0.00707675, -0.28455235, -0.14197615, -1.60369074],\n",
              "       [-1.53055953, -0.09090002, -1.73104612, -1.5907849 ],\n",
              "       ...,\n",
              "       [ 1.85495776, -0.57503085,  0.31204384,  1.90669738],\n",
              "       [-0.00707675,  0.00592615,  0.76606383,  1.93250906],\n",
              "       [ 0.58538877,  0.19957848, -0.14197615,  1.99703825]])"
            ]
          },
          "metadata": {
            "tags": []
          },
          "execution_count": 8
        }
      ]
    },
    {
      "cell_type": "code",
      "metadata": {
        "id": "FIEesKLDgEa5"
      },
      "source": [
        "from sklearn.model_selection import train_test_split\n",
        "x_train, x_test, y_train, y_test = train_test_split(x_scaled ,y, random_state=1, test_size=0.2)"
      ],
      "execution_count": null,
      "outputs": []
    },
    {
      "cell_type": "code",
      "metadata": {
        "colab": {
          "base_uri": "https://localhost:8080/"
        },
        "id": "QiIr4tUTf_le",
        "outputId": "d3e21b07-6a25-4479-d23a-a00e87d97dac"
      },
      "source": [
        "from xgboost import XGBClassifier\n",
        "# from bayes_opt import BayesianOptimization\n",
        "from sklearn.metrics import roc_auc_score, accuracy_score, plot_confusion_matrix\n",
        "from sklearn.model_selection import StratifiedKFold, GridSearchCV\n",
        "\n",
        "\n",
        "params = {\n",
        "        'min_child_weight': [1, 5, 10],\n",
        "        'gamma': [0.5, 1, 1.5, 2, 5],\n",
        "        'subsample': [0.6, 0.8, 1.0],\n",
        "        'colsample_bytree': [0.6, 0.8, 1.0],\n",
        "        'max_depth': [3, 4, 5]\n",
        "        }\n",
        "\n",
        "xgb = XGBClassifier(learning_rate=0.01, n_estimators=1000, objective='binary:logistic')\n",
        "\n",
        "skf = StratifiedKFold(n_splits=5, shuffle=True, random_state=0)\n",
        "\n",
        "grid = GridSearchCV(estimator=xgb, param_grid=params, n_jobs=-1, \n",
        "                    cv=skf.split(x_train,y_train), verbose=0 )\n",
        "\n",
        "grid.fit(x_train ,y_train, early_stopping_rounds=30, eval_set=[(x_test, y_test)])"
      ],
      "execution_count": null,
      "outputs": [
        {
          "output_type": "stream",
          "text": [
            "[0]\tvalidation_0-error:0.133333\n",
            "Will train until validation_0-error hasn't improved in 30 rounds.\n",
            "[1]\tvalidation_0-error:0.133333\n",
            "[2]\tvalidation_0-error:0.233333\n",
            "[3]\tvalidation_0-error:0.25\n",
            "[4]\tvalidation_0-error:0.133333\n",
            "[5]\tvalidation_0-error:0.1\n",
            "[6]\tvalidation_0-error:0.116667\n",
            "[7]\tvalidation_0-error:0.15\n",
            "[8]\tvalidation_0-error:0.116667\n",
            "[9]\tvalidation_0-error:0.1\n",
            "[10]\tvalidation_0-error:0.1\n",
            "[11]\tvalidation_0-error:0.1\n",
            "[12]\tvalidation_0-error:0.1\n",
            "[13]\tvalidation_0-error:0.116667\n",
            "[14]\tvalidation_0-error:0.116667\n",
            "[15]\tvalidation_0-error:0.1\n",
            "[16]\tvalidation_0-error:0.066667\n",
            "[17]\tvalidation_0-error:0.083333\n",
            "[18]\tvalidation_0-error:0.066667\n",
            "[19]\tvalidation_0-error:0.066667\n",
            "[20]\tvalidation_0-error:0.066667\n",
            "[21]\tvalidation_0-error:0.066667\n",
            "[22]\tvalidation_0-error:0.05\n",
            "[23]\tvalidation_0-error:0.05\n",
            "[24]\tvalidation_0-error:0.066667\n",
            "[25]\tvalidation_0-error:0.066667\n",
            "[26]\tvalidation_0-error:0.066667\n",
            "[27]\tvalidation_0-error:0.05\n",
            "[28]\tvalidation_0-error:0.05\n",
            "[29]\tvalidation_0-error:0.066667\n",
            "[30]\tvalidation_0-error:0.066667\n",
            "[31]\tvalidation_0-error:0.066667\n",
            "[32]\tvalidation_0-error:0.066667\n",
            "[33]\tvalidation_0-error:0.066667\n",
            "[34]\tvalidation_0-error:0.066667\n",
            "[35]\tvalidation_0-error:0.066667\n",
            "[36]\tvalidation_0-error:0.066667\n",
            "[37]\tvalidation_0-error:0.066667\n",
            "[38]\tvalidation_0-error:0.066667\n",
            "[39]\tvalidation_0-error:0.066667\n",
            "[40]\tvalidation_0-error:0.083333\n",
            "[41]\tvalidation_0-error:0.1\n",
            "[42]\tvalidation_0-error:0.083333\n",
            "[43]\tvalidation_0-error:0.066667\n",
            "[44]\tvalidation_0-error:0.066667\n",
            "[45]\tvalidation_0-error:0.066667\n",
            "[46]\tvalidation_0-error:0.083333\n",
            "[47]\tvalidation_0-error:0.066667\n",
            "[48]\tvalidation_0-error:0.083333\n",
            "[49]\tvalidation_0-error:0.083333\n",
            "[50]\tvalidation_0-error:0.083333\n",
            "[51]\tvalidation_0-error:0.1\n",
            "[52]\tvalidation_0-error:0.1\n",
            "Stopping. Best iteration:\n",
            "[22]\tvalidation_0-error:0.05\n",
            "\n"
          ],
          "name": "stdout"
        },
        {
          "output_type": "execute_result",
          "data": {
            "text/plain": [
              "GridSearchCV(cv=<generator object _BaseKFold.split at 0x7fa4a3cf7d00>,\n",
              "             error_score=nan,\n",
              "             estimator=XGBClassifier(base_score=0.5, booster='gbtree',\n",
              "                                     colsample_bylevel=1, colsample_bynode=1,\n",
              "                                     colsample_bytree=1, gamma=0,\n",
              "                                     learning_rate=0.01, max_delta_step=0,\n",
              "                                     max_depth=3, min_child_weight=1,\n",
              "                                     missing=None, n_estimators=1000, n_jobs=1,\n",
              "                                     nthread=None, objective='binary:logistic',\n",
              "                                     random_state=0, reg_alpha=0, reg_lambda=1,\n",
              "                                     scale_pos_weight=1, seed=None, silent=None,\n",
              "                                     subsample=1, verbosity=1),\n",
              "             iid='deprecated', n_jobs=-1,\n",
              "             param_grid={'colsample_bytree': [0.6, 0.8, 1.0],\n",
              "                         'gamma': [0.5, 1, 1.5, 2, 5], 'max_depth': [3, 4, 5],\n",
              "                         'min_child_weight': [1, 5, 10],\n",
              "                         'subsample': [0.6, 0.8, 1.0]},\n",
              "             pre_dispatch='2*n_jobs', refit=True, return_train_score=False,\n",
              "             scoring=None, verbose=0)"
            ]
          },
          "metadata": {
            "tags": []
          },
          "execution_count": 16
        }
      ]
    },
    {
      "cell_type": "code",
      "metadata": {
        "id": "9Gmvo4bXhjBq",
        "colab": {
          "base_uri": "https://localhost:8080/"
        },
        "outputId": "7d2edfdb-e9c3-4e9e-9382-b637173c671a"
      },
      "source": [
        "from sklearn import metrics\n",
        "\n",
        "best_grid = grid.best_estimator_\n",
        "best_grid_pred = best_grid.predict(x_test)\n",
        "\n",
        "# Calculate accuracy, precision, recall, f1-score, and kappa score\n",
        "best_grid_acc = metrics.accuracy_score(y_test, best_grid_pred)\n",
        "best_grid_prec = metrics.precision_score(y_test, best_grid_pred)\n",
        "best_grid_rec = metrics.recall_score(y_test, best_grid_pred)\n",
        "best_grid_f1 = metrics.f1_score(y_test, best_grid_pred)\n",
        "best_grid_kappa = metrics.cohen_kappa_score(y_test, best_grid_pred)\n",
        "\n",
        "# Calculate area under curve (AUC)\n",
        "best_grid_pred_proba = best_grid.predict_proba(x_test)[::,1]\n",
        "best_grid_fpr, best_grid_tpr, _ = metrics.roc_curve(y_test,  best_grid_pred_proba)\n",
        "best_grid_auc = metrics.roc_auc_score(y_test, best_grid_pred_proba)\n",
        "\n",
        "print('Accuracy:', best_grid_acc)\n",
        "print('Precision:', best_grid_prec)\n",
        "print('Recall:', best_grid_rec)\n",
        "print('F1 score:', best_grid_f1)\n",
        "print('Cohen Kappa Score:', best_grid_kappa)\n",
        "print('AUC:', best_grid_auc)\n",
        "\n",
        "# Display confussion matrix\n",
        "cm = metrics.confusion_matrix(y_test, best_grid_pred)\n",
        "print('Confusion Matrix:\\n', cm)"
      ],
      "execution_count": null,
      "outputs": [
        {
          "output_type": "stream",
          "text": [
            "Accuracy: 0.95\n",
            "Precision: 1.0\n",
            "Recall: 0.7857142857142857\n",
            "F1 score: 0.88\n",
            "Cohen Kappa Score: 0.848993288590604\n",
            "AUC: 0.9518633540372671\n",
            "Confusion Matrix:\n",
            " [[46  0]\n",
            " [ 3 11]]\n"
          ],
          "name": "stdout"
        }
      ]
    },
    {
      "cell_type": "markdown",
      "metadata": {
        "id": "doHMGelVmQWB"
      },
      "source": [
        "# Easy feature"
      ]
    },
    {
      "cell_type": "code",
      "metadata": {
        "colab": {
          "base_uri": "https://localhost:8080/",
          "height": 226
        },
        "id": "w8fwKBaXmUeF",
        "outputId": "10181b34-b4e8-43ca-d658-b88865baa798"
      },
      "source": [
        "df.head()"
      ],
      "execution_count": null,
      "outputs": [
        {
          "output_type": "execute_result",
          "data": {
            "text/html": [
              "<div>\n",
              "<style scoped>\n",
              "    .dataframe tbody tr th:only-of-type {\n",
              "        vertical-align: middle;\n",
              "    }\n",
              "\n",
              "    .dataframe tbody tr th {\n",
              "        vertical-align: top;\n",
              "    }\n",
              "\n",
              "    .dataframe thead th {\n",
              "        text-align: right;\n",
              "    }\n",
              "</style>\n",
              "<table border=\"1\" class=\"dataframe\">\n",
              "  <thead>\n",
              "    <tr style=\"text-align: right;\">\n",
              "      <th></th>\n",
              "      <th>age</th>\n",
              "      <th>anaemia</th>\n",
              "      <th>creatinine_phosphokinase</th>\n",
              "      <th>diabetes</th>\n",
              "      <th>ejection_fraction</th>\n",
              "      <th>high_blood_pressure</th>\n",
              "      <th>platelets</th>\n",
              "      <th>serum_creatinine</th>\n",
              "      <th>serum_sodium</th>\n",
              "      <th>sex</th>\n",
              "      <th>smoking</th>\n",
              "      <th>time</th>\n",
              "      <th>DEATH_EVENT</th>\n",
              "    </tr>\n",
              "  </thead>\n",
              "  <tbody>\n",
              "    <tr>\n",
              "      <th>0</th>\n",
              "      <td>75.0</td>\n",
              "      <td>0</td>\n",
              "      <td>582</td>\n",
              "      <td>0</td>\n",
              "      <td>20</td>\n",
              "      <td>1</td>\n",
              "      <td>265000.00</td>\n",
              "      <td>1.9</td>\n",
              "      <td>130</td>\n",
              "      <td>1</td>\n",
              "      <td>0</td>\n",
              "      <td>4</td>\n",
              "      <td>1</td>\n",
              "    </tr>\n",
              "    <tr>\n",
              "      <th>1</th>\n",
              "      <td>55.0</td>\n",
              "      <td>0</td>\n",
              "      <td>7861</td>\n",
              "      <td>0</td>\n",
              "      <td>38</td>\n",
              "      <td>0</td>\n",
              "      <td>263358.03</td>\n",
              "      <td>1.1</td>\n",
              "      <td>136</td>\n",
              "      <td>1</td>\n",
              "      <td>0</td>\n",
              "      <td>6</td>\n",
              "      <td>1</td>\n",
              "    </tr>\n",
              "    <tr>\n",
              "      <th>2</th>\n",
              "      <td>65.0</td>\n",
              "      <td>0</td>\n",
              "      <td>146</td>\n",
              "      <td>0</td>\n",
              "      <td>20</td>\n",
              "      <td>0</td>\n",
              "      <td>162000.00</td>\n",
              "      <td>1.3</td>\n",
              "      <td>129</td>\n",
              "      <td>1</td>\n",
              "      <td>1</td>\n",
              "      <td>7</td>\n",
              "      <td>1</td>\n",
              "    </tr>\n",
              "    <tr>\n",
              "      <th>3</th>\n",
              "      <td>50.0</td>\n",
              "      <td>1</td>\n",
              "      <td>111</td>\n",
              "      <td>0</td>\n",
              "      <td>20</td>\n",
              "      <td>0</td>\n",
              "      <td>210000.00</td>\n",
              "      <td>1.9</td>\n",
              "      <td>137</td>\n",
              "      <td>1</td>\n",
              "      <td>0</td>\n",
              "      <td>7</td>\n",
              "      <td>1</td>\n",
              "    </tr>\n",
              "    <tr>\n",
              "      <th>4</th>\n",
              "      <td>65.0</td>\n",
              "      <td>1</td>\n",
              "      <td>160</td>\n",
              "      <td>1</td>\n",
              "      <td>20</td>\n",
              "      <td>0</td>\n",
              "      <td>327000.00</td>\n",
              "      <td>2.7</td>\n",
              "      <td>116</td>\n",
              "      <td>0</td>\n",
              "      <td>0</td>\n",
              "      <td>8</td>\n",
              "      <td>1</td>\n",
              "    </tr>\n",
              "  </tbody>\n",
              "</table>\n",
              "</div>"
            ],
            "text/plain": [
              "    age  anaemia  creatinine_phosphokinase  ...  smoking  time  DEATH_EVENT\n",
              "0  75.0        0                       582  ...        0     4            1\n",
              "1  55.0        0                      7861  ...        0     6            1\n",
              "2  65.0        0                       146  ...        1     7            1\n",
              "3  50.0        1                       111  ...        0     7            1\n",
              "4  65.0        1                       160  ...        0     8            1\n",
              "\n",
              "[5 rows x 13 columns]"
            ]
          },
          "metadata": {
            "tags": []
          },
          "execution_count": 18
        }
      ]
    },
    {
      "cell_type": "markdown",
      "metadata": {
        "id": "OwCcHUDRmZe8"
      },
      "source": [
        ""
      ]
    },
    {
      "cell_type": "code",
      "metadata": {
        "id": "uOuvsdQWmQWB"
      },
      "source": [
        "x = df[['age', 'anaemia', 'diabetes', 'high_blood_pressure', 'sex', 'smoking', 'time']]\n",
        "y = df['DEATH_EVENT']"
      ],
      "execution_count": null,
      "outputs": []
    },
    {
      "cell_type": "code",
      "metadata": {
        "colab": {
          "base_uri": "https://localhost:8080/"
        },
        "id": "or3qpCpDmQWB",
        "outputId": "5ba3ccc8-7458-4a64-cfb7-fae6a684f495"
      },
      "source": [
        "from sklearn.preprocessing import StandardScaler\n",
        "\n",
        "# Copying original dataframe\n",
        "scaler = StandardScaler()\n",
        "num_cols = ['age', 'time']\n",
        "x_scaled = scaler.fit_transform(x)\n",
        "\n",
        "x_scaled"
      ],
      "execution_count": null,
      "outputs": [
        {
          "output_type": "execute_result",
          "data": {
            "text/plain": [
              "array([[ 1.19294523, -0.87110478, -0.84757938, ...,  0.73568819,\n",
              "        -0.68768191, -1.62950241],\n",
              "       [-0.49127928, -0.87110478, -0.84757938, ...,  0.73568819,\n",
              "        -0.68768191, -1.60369074],\n",
              "       [ 0.35083298, -0.87110478, -0.84757938, ...,  0.73568819,\n",
              "         1.4541607 , -1.5907849 ],\n",
              "       ...,\n",
              "       [-1.33339153, -0.87110478,  1.1798305 , ..., -1.35927151,\n",
              "        -0.68768191,  1.90669738],\n",
              "       [-1.33339153, -0.87110478, -0.84757938, ...,  0.73568819,\n",
              "         1.4541607 ,  1.93250906],\n",
              "       [-0.9123354 , -0.87110478, -0.84757938, ...,  0.73568819,\n",
              "         1.4541607 ,  1.99703825]])"
            ]
          },
          "metadata": {
            "tags": []
          },
          "execution_count": 20
        }
      ]
    },
    {
      "cell_type": "code",
      "metadata": {
        "id": "kaO0l80zmQWB"
      },
      "source": [
        "from sklearn.model_selection import train_test_split\n",
        "x_train, x_test, y_train, y_test = train_test_split(x_scaled ,y, random_state=1, test_size=0.2)"
      ],
      "execution_count": null,
      "outputs": []
    },
    {
      "cell_type": "code",
      "metadata": {
        "colab": {
          "base_uri": "https://localhost:8080/"
        },
        "id": "0cXxMV8QmQWB",
        "outputId": "f9e7021a-ee15-4e95-df33-2a8a0f1e965b"
      },
      "source": [
        "from xgboost import XGBClassifier\n",
        "# from bayes_opt import BayesianOptimization\n",
        "from sklearn.metrics import roc_auc_score, accuracy_score, plot_confusion_matrix\n",
        "from sklearn.model_selection import StratifiedKFold, GridSearchCV\n",
        "\n",
        "\n",
        "params = {\n",
        "        'min_child_weight': [1, 5, 10],\n",
        "        'gamma': [0.5, 1, 1.5, 2, 5],\n",
        "        'subsample': [0.6, 0.8, 1.0],\n",
        "        'colsample_bytree': [0.6, 0.8, 1.0],\n",
        "        'max_depth': [3, 4, 5]\n",
        "        }\n",
        "\n",
        "xgb = XGBClassifier(learning_rate=0.01, n_estimators=1000, objective='binary:logistic')\n",
        "\n",
        "skf = StratifiedKFold(n_splits=5, shuffle=True, random_state=0)\n",
        "\n",
        "grid = GridSearchCV(estimator=xgb, param_grid=params, n_jobs=-1, \n",
        "                    cv=skf.split(x_train,y_train), verbose=0 )\n",
        "\n",
        "grid.fit(x_train ,y_train, early_stopping_rounds=30, eval_set=[(x_test, y_test)])"
      ],
      "execution_count": null,
      "outputs": [
        {
          "output_type": "stream",
          "text": [
            "[0]\tvalidation_0-error:0.133333\n",
            "Will train until validation_0-error hasn't improved in 30 rounds.\n",
            "[1]\tvalidation_0-error:0.133333\n",
            "[2]\tvalidation_0-error:0.133333\n",
            "[3]\tvalidation_0-error:0.133333\n",
            "[4]\tvalidation_0-error:0.133333\n",
            "[5]\tvalidation_0-error:0.133333\n",
            "[6]\tvalidation_0-error:0.133333\n",
            "[7]\tvalidation_0-error:0.133333\n",
            "[8]\tvalidation_0-error:0.133333\n",
            "[9]\tvalidation_0-error:0.133333\n",
            "[10]\tvalidation_0-error:0.133333\n",
            "[11]\tvalidation_0-error:0.133333\n",
            "[12]\tvalidation_0-error:0.133333\n",
            "[13]\tvalidation_0-error:0.133333\n",
            "[14]\tvalidation_0-error:0.133333\n",
            "[15]\tvalidation_0-error:0.133333\n",
            "[16]\tvalidation_0-error:0.133333\n",
            "[17]\tvalidation_0-error:0.133333\n",
            "[18]\tvalidation_0-error:0.133333\n",
            "[19]\tvalidation_0-error:0.133333\n",
            "[20]\tvalidation_0-error:0.133333\n",
            "[21]\tvalidation_0-error:0.133333\n",
            "[22]\tvalidation_0-error:0.133333\n",
            "[23]\tvalidation_0-error:0.133333\n",
            "[24]\tvalidation_0-error:0.133333\n",
            "[25]\tvalidation_0-error:0.133333\n",
            "[26]\tvalidation_0-error:0.133333\n",
            "[27]\tvalidation_0-error:0.133333\n",
            "[28]\tvalidation_0-error:0.133333\n",
            "[29]\tvalidation_0-error:0.133333\n",
            "[30]\tvalidation_0-error:0.133333\n",
            "Stopping. Best iteration:\n",
            "[0]\tvalidation_0-error:0.133333\n",
            "\n"
          ],
          "name": "stdout"
        },
        {
          "output_type": "execute_result",
          "data": {
            "text/plain": [
              "GridSearchCV(cv=<generator object _BaseKFold.split at 0x7fa4a44630f8>,\n",
              "             error_score=nan,\n",
              "             estimator=XGBClassifier(base_score=0.5, booster='gbtree',\n",
              "                                     colsample_bylevel=1, colsample_bynode=1,\n",
              "                                     colsample_bytree=1, gamma=0,\n",
              "                                     learning_rate=0.01, max_delta_step=0,\n",
              "                                     max_depth=3, min_child_weight=1,\n",
              "                                     missing=None, n_estimators=1000, n_jobs=1,\n",
              "                                     nthread=None, objective='binary:logistic',\n",
              "                                     random_state=0, reg_alpha=0, reg_lambda=1,\n",
              "                                     scale_pos_weight=1, seed=None, silent=None,\n",
              "                                     subsample=1, verbosity=1),\n",
              "             iid='deprecated', n_jobs=-1,\n",
              "             param_grid={'colsample_bytree': [0.6, 0.8, 1.0],\n",
              "                         'gamma': [0.5, 1, 1.5, 2, 5], 'max_depth': [3, 4, 5],\n",
              "                         'min_child_weight': [1, 5, 10],\n",
              "                         'subsample': [0.6, 0.8, 1.0]},\n",
              "             pre_dispatch='2*n_jobs', refit=True, return_train_score=False,\n",
              "             scoring=None, verbose=0)"
            ]
          },
          "metadata": {
            "tags": []
          },
          "execution_count": 22
        }
      ]
    },
    {
      "cell_type": "code",
      "metadata": {
        "colab": {
          "base_uri": "https://localhost:8080/"
        },
        "id": "meJPrPK1mQWC",
        "outputId": "25ba0ebd-9a37-4e79-c67c-d280ebb95078"
      },
      "source": [
        "from sklearn import metrics\n",
        "\n",
        "best_grid = grid.best_estimator_\n",
        "best_grid_pred = best_grid.predict(x_test)\n",
        "\n",
        "# Calculate accuracy, precision, recall, f1-score, and kappa score\n",
        "best_grid_acc = metrics.accuracy_score(y_test, best_grid_pred)\n",
        "best_grid_prec = metrics.precision_score(y_test, best_grid_pred)\n",
        "best_grid_rec = metrics.recall_score(y_test, best_grid_pred)\n",
        "best_grid_f1 = metrics.f1_score(y_test, best_grid_pred)\n",
        "best_grid_kappa = metrics.cohen_kappa_score(y_test, best_grid_pred)\n",
        "\n",
        "# Calculate area under curve (AUC)\n",
        "best_grid_pred_proba = best_grid.predict_proba(x_test)[::,1]\n",
        "best_grid_fpr, best_grid_tpr, _ = metrics.roc_curve(y_test,  best_grid_pred_proba)\n",
        "best_grid_auc = metrics.roc_auc_score(y_test, best_grid_pred_proba)\n",
        "\n",
        "print('Accuracy:', best_grid_acc)\n",
        "print('Precision:', best_grid_prec)\n",
        "print('Recall:', best_grid_rec)\n",
        "print('F1 score:', best_grid_f1)\n",
        "print('Cohen Kappa Score:', best_grid_kappa)\n",
        "print('AUC:', best_grid_auc)\n",
        "\n",
        "# Display confussion matrix\n",
        "cm = metrics.confusion_matrix(y_test, best_grid_pred)\n",
        "print('Confusion Matrix:\\n', cm)"
      ],
      "execution_count": null,
      "outputs": [
        {
          "output_type": "stream",
          "text": [
            "Accuracy: 0.8666666666666667\n",
            "Precision: 0.75\n",
            "Recall: 0.6428571428571429\n",
            "F1 score: 0.6923076923076924\n",
            "Cohen Kappa Score: 0.6078431372549019\n",
            "AUC: 0.8586956521739131\n",
            "Confusion Matrix:\n",
            " [[43  3]\n",
            " [ 5  9]]\n"
          ],
          "name": "stdout"
        }
      ]
    }
  ]
}